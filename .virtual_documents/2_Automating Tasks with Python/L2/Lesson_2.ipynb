





from helper_functions import print_llm_response, get_llm_response





#from previous lesson:
list_of_tasks = [
    "Compose a brief email to my boss explaining that I will be late for tomorrow's meeting.",
    "Write a birthday poem for Otto, celebrating his 28th birthday.",
    "Write a 300-word review of the movie 'The Arrival'."
]
print(list_of_tasks)





task = list_of_tasks[0]
print_llm_response(task)











for task in list_of_tasks:
    print(task)





for task in list_of_tasks:
    print_llm_response(task)





for task in list_of_tasks:
    print_llm_response(task)











#ice cream flavor example
ice_cream_flavors = [
    "Vanilla",
    "Chocolate",
    "Strawberry",
    "Mint Chocolate Chip"
]





for flavor in ice_cream_flavors:
    prompt = f"""For the ice cream flavor listed below, 
    provide a captivating description that could be used for promotional purposes.

    Flavor: {flavor}

    """
    print_llm_response(prompt)





#saving results to a list
promotional_descriptions = []
for flavor in ice_cream_flavors:
    prompt = f"""For the ice cream flavor listed below, 
    provide a captivating description that could be used for promotional purposes.

    Flavor: {flavor}

    """
    description = get_llm_response(prompt)
    promotional_descriptions.append(description)





print(promotional_descriptions)








# Fix the following code.
# It should print the flavors in
# ice_cream_flavors one by one.

ice_cream_flavors = ["Chocolate", "Mint Chocolate Chip"]

### EDIT THE FOLLOWING CODE ###
for flavor in ice_cream_flavors:
    print(flavor)
### --------------- ###


# Translate the flavors in ice_cream_flavors to Spanish
ice_cream_flavors = ["Vanilla", "Strawberry"]

for flavor in ice_cream_flavors:
    ### EDIT THE FOLLOWING CODE ###
    #Hint: you only need to add one or two sentences to the prompt
    prompt = f"""For the ice cream flavor listed below, such as {flavor}, please
    Translate it to Spanish
    
    """
    ### --------------- ###
    print_llm_response(prompt)


# Write code to get a list with 
# words without typos

words_with_typos = ["Aple", "Wether", "Newpaper"]
words_without_typos = []

for word in words_with_typos:
    prompt = f"""Fix the spelling mistake in the following word: {word}
    Provide only the word.
    """
    correct_word = get_llm_response(prompt)
    ### WRITE CODE HERE  ###
    #Hint: Append the correct_word to the words_without_typos list 
    words_without_typos.append(correct_word)
    ### --------------- ###

print(words_without_typos)
